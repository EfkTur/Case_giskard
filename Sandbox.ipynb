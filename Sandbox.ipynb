{
 "cells": [
  {
   "cell_type": "code",
   "execution_count": 1,
   "metadata": {},
   "outputs": [],
   "source": [
    "import pandas as pd\n",
    "import email\n",
    "import tensorflow as tf\n",
    "\n",
    "from utils import *\n",
    "import nltk\n",
    "import re\n",
    "from nltk.corpus import stopwords\n",
    "from nltk.stem import WordNetLemmatizer\n",
    "from string import punctuation\n",
    "from dateutil import parser"
   ]
  },
  {
   "cell_type": "markdown",
   "metadata": {},
   "source": [
    "<h3> Importing and basic preparation"
   ]
  },
  {
   "cell_type": "code",
   "execution_count": 2,
   "metadata": {},
   "outputs": [
    {
     "data": {
      "text/html": [
       "<div>\n",
       "<style scoped>\n",
       "    .dataframe tbody tr th:only-of-type {\n",
       "        vertical-align: middle;\n",
       "    }\n",
       "\n",
       "    .dataframe tbody tr th {\n",
       "        vertical-align: top;\n",
       "    }\n",
       "\n",
       "    .dataframe thead th {\n",
       "        text-align: right;\n",
       "    }\n",
       "</style>\n",
       "<table border=\"1\" class=\"dataframe\">\n",
       "  <thead>\n",
       "    <tr style=\"text-align: right;\">\n",
       "      <th></th>\n",
       "      <th>Target</th>\n",
       "      <th>Message</th>\n",
       "    </tr>\n",
       "  </thead>\n",
       "  <tbody>\n",
       "    <tr>\n",
       "      <th>0</th>\n",
       "      <td>internal company policy</td>\n",
       "      <td>Message-ID: &lt;32715630.1075840547840.JavaMail.e...</td>\n",
       "    </tr>\n",
       "    <tr>\n",
       "      <th>1</th>\n",
       "      <td>alliances / partnerships</td>\n",
       "      <td>Message-ID: &lt;8721012.1075863428380.JavaMail.ev...</td>\n",
       "    </tr>\n",
       "    <tr>\n",
       "      <th>2</th>\n",
       "      <td>internal company operations</td>\n",
       "      <td>Message-ID: &lt;8687721.1075852656109.JavaMail.ev...</td>\n",
       "    </tr>\n",
       "    <tr>\n",
       "      <th>3</th>\n",
       "      <td>internal company operations</td>\n",
       "      <td>Message-ID: &lt;16562450.1075846168630.JavaMail.e...</td>\n",
       "    </tr>\n",
       "    <tr>\n",
       "      <th>4</th>\n",
       "      <td>internal projects -- progress and strategy</td>\n",
       "      <td>Message-ID: &lt;955111.1075858690252.JavaMail.eva...</td>\n",
       "    </tr>\n",
       "    <tr>\n",
       "      <th>...</th>\n",
       "      <td>...</td>\n",
       "      <td>...</td>\n",
       "    </tr>\n",
       "    <tr>\n",
       "      <th>874</th>\n",
       "      <td>internal company operations</td>\n",
       "      <td>Message-ID: &lt;18983060.1075847582386.JavaMail.e...</td>\n",
       "    </tr>\n",
       "    <tr>\n",
       "      <th>875</th>\n",
       "      <td>alliances / partnerships</td>\n",
       "      <td>Message-ID: &lt;29879754.1075863427653.JavaMail.e...</td>\n",
       "    </tr>\n",
       "    <tr>\n",
       "      <th>876</th>\n",
       "      <td>talking points</td>\n",
       "      <td>Message-ID: &lt;3001077.1075863428054.JavaMail.ev...</td>\n",
       "    </tr>\n",
       "    <tr>\n",
       "      <th>877</th>\n",
       "      <td>internal projects -- progress and strategy</td>\n",
       "      <td>Message-ID: &lt;13669071.1075863428696.JavaMail.e...</td>\n",
       "    </tr>\n",
       "    <tr>\n",
       "      <th>878</th>\n",
       "      <td>regulations and regulators (includes price caps)</td>\n",
       "      <td>Message-ID: &lt;5846581.1075852531032.JavaMail.ev...</td>\n",
       "    </tr>\n",
       "  </tbody>\n",
       "</table>\n",
       "<p>879 rows × 2 columns</p>\n",
       "</div>"
      ],
      "text/plain": [
       "                                               Target  \\\n",
       "0                             internal company policy   \n",
       "1                            alliances / partnerships   \n",
       "2                         internal company operations   \n",
       "3                         internal company operations   \n",
       "4          internal projects -- progress and strategy   \n",
       "..                                                ...   \n",
       "874                       internal company operations   \n",
       "875                          alliances / partnerships   \n",
       "876                                    talking points   \n",
       "877        internal projects -- progress and strategy   \n",
       "878  regulations and regulators (includes price caps)   \n",
       "\n",
       "                                               Message  \n",
       "0    Message-ID: <32715630.1075840547840.JavaMail.e...  \n",
       "1    Message-ID: <8721012.1075863428380.JavaMail.ev...  \n",
       "2    Message-ID: <8687721.1075852656109.JavaMail.ev...  \n",
       "3    Message-ID: <16562450.1075846168630.JavaMail.e...  \n",
       "4    Message-ID: <955111.1075858690252.JavaMail.eva...  \n",
       "..                                                 ...  \n",
       "874  Message-ID: <18983060.1075847582386.JavaMail.e...  \n",
       "875  Message-ID: <29879754.1075863427653.JavaMail.e...  \n",
       "876  Message-ID: <3001077.1075863428054.JavaMail.ev...  \n",
       "877  Message-ID: <13669071.1075863428696.JavaMail.e...  \n",
       "878  Message-ID: <5846581.1075852531032.JavaMail.ev...  \n",
       "\n",
       "[879 rows x 2 columns]"
      ]
     },
     "execution_count": 2,
     "metadata": {},
     "output_type": "execute_result"
    }
   ],
   "source": [
    "db = pd.read_csv(\n",
    "  'giskard_dataset.csv',\n",
    "  delimiter=';',\n",
    "  index_col=0\n",
    ")\n",
    "db.reset_index(drop=True,inplace=True)\n",
    "db"
   ]
  },
  {
   "cell_type": "code",
   "execution_count": 3,
   "metadata": {},
   "outputs": [],
   "source": [
    "stop_words = set(stopwords.words('english')+list(punctuation))\n",
    "lemmatizer = WordNetLemmatizer()"
   ]
  },
  {
   "cell_type": "code",
   "execution_count": 4,
   "metadata": {},
   "outputs": [
    {
     "data": {
      "text/plain": [
       "regulations and regulators (includes price caps)    184\n",
       "california energy crisis / california politics      149\n",
       "internal projects -- progress and strategy          109\n",
       "internal company operations                          78\n",
       "political influence / contributions / contacts       76\n",
       "internal company policy                              67\n",
       " company image -- current                            59\n",
       "legal advice                                         47\n",
       "alliances / partnerships                             43\n",
       "company image -- changing / influencing              37\n",
       "meeting minutes                                      13\n",
       "talking points                                       13\n",
       "trip reports                                          4\n",
       "Name: Target, dtype: int64"
      ]
     },
     "execution_count": 4,
     "metadata": {},
     "output_type": "execute_result"
    }
   ],
   "source": [
    "#These are our classification labels\n",
    "db.Target.value_counts()"
   ]
  },
  {
   "cell_type": "code",
   "execution_count": 5,
   "metadata": {},
   "outputs": [],
   "source": [
    "db['Message_usable'] = db['Message'].apply(lambda x:email.message_from_string(x))\n",
    "db['Subject'] = db['Message_usable'].apply(lambda x:x['Subject'])\n",
    "db['Body'] = db['Message_usable'].apply(lambda x:x.get_payload())\n",
    "db['Date'] = db['Message_usable'].apply(lambda x:parser.parse(x['Date']))\n",
    "db['Year'] =  db['Date'].apply(lambda x:x.strftime('%Y'))\n",
    "db['Month'] =  db['Date'].apply(lambda x:x.strftime('%B'))\n",
    "db['Day'] = db['Date'].apply(lambda x:x.strftime('%A'))"
   ]
  },
  {
   "cell_type": "code",
   "execution_count": 6,
   "metadata": {},
   "outputs": [],
   "source": [
    "db_copy = db.copy(deep=True)"
   ]
  },
  {
   "cell_type": "code",
   "execution_count": 7,
   "metadata": {},
   "outputs": [
    {
     "data": {
      "text/html": [
       "<div>\n",
       "<style scoped>\n",
       "    .dataframe tbody tr th:only-of-type {\n",
       "        vertical-align: middle;\n",
       "    }\n",
       "\n",
       "    .dataframe tbody tr th {\n",
       "        vertical-align: top;\n",
       "    }\n",
       "\n",
       "    .dataframe thead th {\n",
       "        text-align: right;\n",
       "    }\n",
       "</style>\n",
       "<table border=\"1\" class=\"dataframe\">\n",
       "  <thead>\n",
       "    <tr style=\"text-align: right;\">\n",
       "      <th></th>\n",
       "      <th>Target</th>\n",
       "      <th>Subject</th>\n",
       "      <th>Body</th>\n",
       "      <th>Year</th>\n",
       "      <th>Month</th>\n",
       "      <th>Day</th>\n",
       "    </tr>\n",
       "  </thead>\n",
       "  <tbody>\n",
       "    <tr>\n",
       "      <th>0</th>\n",
       "      <td>internal company policy</td>\n",
       "      <td>Confidential Information and Securities Trading</td>\n",
       "      <td>To:GILBERT-SMITH, DOUGLAS\\nEmail:doug.gilbert-...</td>\n",
       "      <td>2001</td>\n",
       "      <td>July</td>\n",
       "      <td>Wednesday</td>\n",
       "    </tr>\n",
       "    <tr>\n",
       "      <th>1</th>\n",
       "      <td>alliances / partnerships</td>\n",
       "      <td>FW: Venezuela FX and inflation forecasts, June...</td>\n",
       "      <td>\\n\\n -----Original Message-----\\nFrom: \\tKoepk...</td>\n",
       "      <td>2001</td>\n",
       "      <td>June</td>\n",
       "      <td>Tuesday</td>\n",
       "    </tr>\n",
       "    <tr>\n",
       "      <th>2</th>\n",
       "      <td>internal company operations</td>\n",
       "      <td>Enron Expatriates in India</td>\n",
       "      <td>John Brindle, David Cromley and others in the ...</td>\n",
       "      <td>2001</td>\n",
       "      <td>June</td>\n",
       "      <td>Wednesday</td>\n",
       "    </tr>\n",
       "    <tr>\n",
       "      <th>3</th>\n",
       "      <td>internal company operations</td>\n",
       "      <td>Re: PLEASE READ &amp; RESPOND</td>\n",
       "      <td>Yes.  Contact either Gia or John and get the b...</td>\n",
       "      <td>2000</td>\n",
       "      <td>August</td>\n",
       "      <td>Monday</td>\n",
       "    </tr>\n",
       "    <tr>\n",
       "      <th>4</th>\n",
       "      <td>internal projects -- progress and strategy</td>\n",
       "      <td>FW: ISO's Response to BPA Rebuttal of Sheffrin...</td>\n",
       "      <td>\\nThis is something interesting to put in your...</td>\n",
       "      <td>2001</td>\n",
       "      <td>June</td>\n",
       "      <td>Saturday</td>\n",
       "    </tr>\n",
       "    <tr>\n",
       "      <th>...</th>\n",
       "      <td>...</td>\n",
       "      <td>...</td>\n",
       "      <td>...</td>\n",
       "      <td>...</td>\n",
       "      <td>...</td>\n",
       "      <td>...</td>\n",
       "    </tr>\n",
       "    <tr>\n",
       "      <th>874</th>\n",
       "      <td>internal company operations</td>\n",
       "      <td>Message from Clark C. Smith</td>\n",
       "      <td>include on the distribution list and send out ...</td>\n",
       "      <td>2001</td>\n",
       "      <td>May</td>\n",
       "      <td>Sunday</td>\n",
       "    </tr>\n",
       "    <tr>\n",
       "      <th>875</th>\n",
       "      <td>alliances / partnerships</td>\n",
       "      <td>RE:</td>\n",
       "      <td>Aruna,\\n\\nI shall be in London this week. Plea...</td>\n",
       "      <td>2001</td>\n",
       "      <td>June</td>\n",
       "      <td>Monday</td>\n",
       "    </tr>\n",
       "    <tr>\n",
       "      <th>876</th>\n",
       "      <td>talking points</td>\n",
       "      <td>RE: Marketing Plan &amp; Meetings</td>\n",
       "      <td>Sandeep,\\n\\nThis looks great. I would talk to ...</td>\n",
       "      <td>2001</td>\n",
       "      <td>June</td>\n",
       "      <td>Tuesday</td>\n",
       "    </tr>\n",
       "    <tr>\n",
       "      <th>877</th>\n",
       "      <td>internal projects -- progress and strategy</td>\n",
       "      <td>RE: Test Message</td>\n",
       "      <td>Mike,\\n\\nThanks for your message. The meeting ...</td>\n",
       "      <td>2001</td>\n",
       "      <td>June</td>\n",
       "      <td>Wednesday</td>\n",
       "    </tr>\n",
       "    <tr>\n",
       "      <th>878</th>\n",
       "      <td>regulations and regulators (includes price caps)</td>\n",
       "      <td>FW: Western Wholesale Activities - Gas &amp; Power...</td>\n",
       "      <td>\\n\\n -----Original Message-----\\nFrom: \\tAlvar...</td>\n",
       "      <td>2001</td>\n",
       "      <td>July</td>\n",
       "      <td>Wednesday</td>\n",
       "    </tr>\n",
       "  </tbody>\n",
       "</table>\n",
       "<p>879 rows × 6 columns</p>\n",
       "</div>"
      ],
      "text/plain": [
       "                                               Target  \\\n",
       "0                             internal company policy   \n",
       "1                            alliances / partnerships   \n",
       "2                         internal company operations   \n",
       "3                         internal company operations   \n",
       "4          internal projects -- progress and strategy   \n",
       "..                                                ...   \n",
       "874                       internal company operations   \n",
       "875                          alliances / partnerships   \n",
       "876                                    talking points   \n",
       "877        internal projects -- progress and strategy   \n",
       "878  regulations and regulators (includes price caps)   \n",
       "\n",
       "                                               Subject  \\\n",
       "0      Confidential Information and Securities Trading   \n",
       "1    FW: Venezuela FX and inflation forecasts, June...   \n",
       "2                           Enron Expatriates in India   \n",
       "3                            Re: PLEASE READ & RESPOND   \n",
       "4    FW: ISO's Response to BPA Rebuttal of Sheffrin...   \n",
       "..                                                 ...   \n",
       "874                        Message from Clark C. Smith   \n",
       "875                                                RE:   \n",
       "876                      RE: Marketing Plan & Meetings   \n",
       "877                                   RE: Test Message   \n",
       "878  FW: Western Wholesale Activities - Gas & Power...   \n",
       "\n",
       "                                                  Body  Year   Month  \\\n",
       "0    To:GILBERT-SMITH, DOUGLAS\\nEmail:doug.gilbert-...  2001    July   \n",
       "1    \\n\\n -----Original Message-----\\nFrom: \\tKoepk...  2001    June   \n",
       "2    John Brindle, David Cromley and others in the ...  2001    June   \n",
       "3    Yes.  Contact either Gia or John and get the b...  2000  August   \n",
       "4    \\nThis is something interesting to put in your...  2001    June   \n",
       "..                                                 ...   ...     ...   \n",
       "874  include on the distribution list and send out ...  2001     May   \n",
       "875  Aruna,\\n\\nI shall be in London this week. Plea...  2001    June   \n",
       "876  Sandeep,\\n\\nThis looks great. I would talk to ...  2001    June   \n",
       "877  Mike,\\n\\nThanks for your message. The meeting ...  2001    June   \n",
       "878  \\n\\n -----Original Message-----\\nFrom: \\tAlvar...  2001    July   \n",
       "\n",
       "           Day  \n",
       "0    Wednesday  \n",
       "1      Tuesday  \n",
       "2    Wednesday  \n",
       "3       Monday  \n",
       "4     Saturday  \n",
       "..         ...  \n",
       "874     Sunday  \n",
       "875     Monday  \n",
       "876    Tuesday  \n",
       "877  Wednesday  \n",
       "878  Wednesday  \n",
       "\n",
       "[879 rows x 6 columns]"
      ]
     },
     "execution_count": 7,
     "metadata": {},
     "output_type": "execute_result"
    }
   ],
   "source": [
    "db_copy = db_copy.drop(\n",
    "  columns=[\n",
    "    'Message',\n",
    "    'Message_usable',\n",
    "    'Date'\n",
    "  ]\n",
    ")\n",
    "db_copy"
   ]
  },
  {
   "cell_type": "markdown",
   "metadata": {},
   "source": [
    "<h3> Cleaning Data"
   ]
  },
  {
   "cell_type": "markdown",
   "metadata": {},
   "source": [
    "<h4> Subject Column"
   ]
  },
  {
   "cell_type": "code",
   "execution_count": 8,
   "metadata": {},
   "outputs": [
    {
     "name": "stderr",
     "output_type": "stream",
     "text": [
      "[nltk_data] Downloading package omw-1.4 to\n",
      "[nltk_data]     /Users/efkanturedi/nltk_data...\n",
      "[nltk_data]   Package omw-1.4 is already up-to-date!\n"
     ]
    },
    {
     "data": {
      "text/plain": [
       "True"
      ]
     },
     "execution_count": 8,
     "metadata": {},
     "output_type": "execute_result"
    }
   ],
   "source": [
    "def list_lemmatizer(list_to_lem,lemmatizer):\n",
    "    return [lemmatizer.lemmatize(token, 'v') for token in list_to_lem]\n",
    "nltk.download('omw-1.4')"
   ]
  },
  {
   "cell_type": "code",
   "execution_count": 9,
   "metadata": {},
   "outputs": [],
   "source": [
    "db_copy['Subject'] = db_copy['Subject'].apply(lambda x: tokenizer(x))\n",
    "db_copy['Subject'] = db_copy['Subject'].apply(lambda x: stop_words_check(x,stop_words))\n",
    "# Note that stopwords checker also removes tokens with len strictly less than 4\n",
    "db_copy['Subject'] = db_copy['Subject'].apply(lambda x: list_lemmatizer(x,lemmatizer))\n",
    "db_copy['Subject'] = db_copy['Subject'].apply(lambda x: \" \".join(x))\n",
    "db_copy['Subject'] = db_copy['Subject'].replace('','None')"
   ]
  },
  {
   "cell_type": "markdown",
   "metadata": {},
   "source": [
    "<h4> Body Column"
   ]
  },
  {
   "cell_type": "code",
   "execution_count": 10,
   "metadata": {},
   "outputs": [],
   "source": [
    "db_copy['Body'] = db_copy['Body'].apply(lambda x: tokenizer(x))\n",
    "db_copy['Body'] = db_copy['Body'].apply(lambda x: stop_words_check(x,stop_words))\n",
    "# Note that stopwords checker also removes tokens with len strictly less than 3\n",
    "db_copy['Body'] = db_copy['Body'].apply(lambda x: list_lemmatizer(x,lemmatizer))\n",
    "db_copy['Body'] = db_copy['Body'].apply(lambda x: \" \".join(x))"
   ]
  },
  {
   "cell_type": "code",
   "execution_count": 11,
   "metadata": {},
   "outputs": [
    {
     "data": {
      "text/html": [
       "<div>\n",
       "<style scoped>\n",
       "    .dataframe tbody tr th:only-of-type {\n",
       "        vertical-align: middle;\n",
       "    }\n",
       "\n",
       "    .dataframe tbody tr th {\n",
       "        vertical-align: top;\n",
       "    }\n",
       "\n",
       "    .dataframe thead th {\n",
       "        text-align: right;\n",
       "    }\n",
       "</style>\n",
       "<table border=\"1\" class=\"dataframe\">\n",
       "  <thead>\n",
       "    <tr style=\"text-align: right;\">\n",
       "      <th></th>\n",
       "      <th>Target</th>\n",
       "      <th>Subject</th>\n",
       "      <th>Body</th>\n",
       "      <th>Year</th>\n",
       "      <th>Month</th>\n",
       "      <th>Day</th>\n",
       "    </tr>\n",
       "  </thead>\n",
       "  <tbody>\n",
       "    <tr>\n",
       "      <th>0</th>\n",
       "      <td>internal company policy</td>\n",
       "      <td>confidential information securities trade</td>\n",
       "      <td>gilbert smith douglas email doug gilbert smith...</td>\n",
       "      <td>2001</td>\n",
       "      <td>July</td>\n",
       "      <td>Wednesday</td>\n",
       "    </tr>\n",
       "    <tr>\n",
       "      <th>1</th>\n",
       "      <td>alliances / partnerships</td>\n",
       "      <td>venezuela inflation forecast june 2001</td>\n",
       "      <td>original message koepke gwyn send tuesday june...</td>\n",
       "      <td>2001</td>\n",
       "      <td>June</td>\n",
       "      <td>Tuesday</td>\n",
       "    </tr>\n",
       "    <tr>\n",
       "      <th>2</th>\n",
       "      <td>internal company operations</td>\n",
       "      <td>enron expatriate india</td>\n",
       "      <td>john brindle david cromley others corporate bu...</td>\n",
       "      <td>2001</td>\n",
       "      <td>June</td>\n",
       "      <td>Wednesday</td>\n",
       "    </tr>\n",
       "    <tr>\n",
       "      <th>3</th>\n",
       "      <td>internal company operations</td>\n",
       "      <td>please read respond</td>\n",
       "      <td>contact either john ball roll thank michael te...</td>\n",
       "      <td>2000</td>\n",
       "      <td>August</td>\n",
       "      <td>Monday</td>\n",
       "    </tr>\n",
       "    <tr>\n",
       "      <th>4</th>\n",
       "      <td>internal projects -- progress and strategy</td>\n",
       "      <td>iso's response rebuttal sheffrin study confide...</td>\n",
       "      <td>something interest back pocket original messag...</td>\n",
       "      <td>2001</td>\n",
       "      <td>June</td>\n",
       "      <td>Saturday</td>\n",
       "    </tr>\n",
       "    <tr>\n",
       "      <th>...</th>\n",
       "      <td>...</td>\n",
       "      <td>...</td>\n",
       "      <td>...</td>\n",
       "      <td>...</td>\n",
       "      <td>...</td>\n",
       "      <td>...</td>\n",
       "    </tr>\n",
       "    <tr>\n",
       "      <th>874</th>\n",
       "      <td>internal company operations</td>\n",
       "      <td>message clark smith</td>\n",
       "      <td>include distribution list send note monday mee...</td>\n",
       "      <td>2001</td>\n",
       "      <td>May</td>\n",
       "      <td>Sunday</td>\n",
       "    </tr>\n",
       "    <tr>\n",
       "      <th>875</th>\n",
       "      <td>alliances / partnerships</td>\n",
       "      <td>None</td>\n",
       "      <td>aruna shall london week please call monday nex...</td>\n",
       "      <td>2001</td>\n",
       "      <td>June</td>\n",
       "      <td>Monday</td>\n",
       "    </tr>\n",
       "    <tr>\n",
       "      <th>876</th>\n",
       "      <td>talking points</td>\n",
       "      <td>market plan meet</td>\n",
       "      <td>sandeep look great would talk head structure d...</td>\n",
       "      <td>2001</td>\n",
       "      <td>June</td>\n",
       "      <td>Tuesday</td>\n",
       "    </tr>\n",
       "    <tr>\n",
       "      <th>877</th>\n",
       "      <td>internal projects -- progress and strategy</td>\n",
       "      <td>test message</td>\n",
       "      <td>mike thank message meet tuesday confirm vince ...</td>\n",
       "      <td>2001</td>\n",
       "      <td>June</td>\n",
       "      <td>Wednesday</td>\n",
       "    </tr>\n",
       "    <tr>\n",
       "      <th>878</th>\n",
       "      <td>regulations and regulators (includes price caps)</td>\n",
       "      <td>western wholesale activities power conf call p...</td>\n",
       "      <td>original message alvarez mailto imceaex enron ...</td>\n",
       "      <td>2001</td>\n",
       "      <td>July</td>\n",
       "      <td>Wednesday</td>\n",
       "    </tr>\n",
       "  </tbody>\n",
       "</table>\n",
       "<p>879 rows × 6 columns</p>\n",
       "</div>"
      ],
      "text/plain": [
       "                                               Target  \\\n",
       "0                             internal company policy   \n",
       "1                            alliances / partnerships   \n",
       "2                         internal company operations   \n",
       "3                         internal company operations   \n",
       "4          internal projects -- progress and strategy   \n",
       "..                                                ...   \n",
       "874                       internal company operations   \n",
       "875                          alliances / partnerships   \n",
       "876                                    talking points   \n",
       "877        internal projects -- progress and strategy   \n",
       "878  regulations and regulators (includes price caps)   \n",
       "\n",
       "                                               Subject  \\\n",
       "0            confidential information securities trade   \n",
       "1               venezuela inflation forecast june 2001   \n",
       "2                               enron expatriate india   \n",
       "3                                  please read respond   \n",
       "4    iso's response rebuttal sheffrin study confide...   \n",
       "..                                                 ...   \n",
       "874                                message clark smith   \n",
       "875                                               None   \n",
       "876                                   market plan meet   \n",
       "877                                       test message   \n",
       "878  western wholesale activities power conf call p...   \n",
       "\n",
       "                                                  Body  Year   Month  \\\n",
       "0    gilbert smith douglas email doug gilbert smith...  2001    July   \n",
       "1    original message koepke gwyn send tuesday june...  2001    June   \n",
       "2    john brindle david cromley others corporate bu...  2001    June   \n",
       "3    contact either john ball roll thank michael te...  2000  August   \n",
       "4    something interest back pocket original messag...  2001    June   \n",
       "..                                                 ...   ...     ...   \n",
       "874  include distribution list send note monday mee...  2001     May   \n",
       "875  aruna shall london week please call monday nex...  2001    June   \n",
       "876  sandeep look great would talk head structure d...  2001    June   \n",
       "877  mike thank message meet tuesday confirm vince ...  2001    June   \n",
       "878  original message alvarez mailto imceaex enron ...  2001    July   \n",
       "\n",
       "           Day  \n",
       "0    Wednesday  \n",
       "1      Tuesday  \n",
       "2    Wednesday  \n",
       "3       Monday  \n",
       "4     Saturday  \n",
       "..         ...  \n",
       "874     Sunday  \n",
       "875     Monday  \n",
       "876    Tuesday  \n",
       "877  Wednesday  \n",
       "878  Wednesday  \n",
       "\n",
       "[879 rows x 6 columns]"
      ]
     },
     "execution_count": 11,
     "metadata": {},
     "output_type": "execute_result"
    }
   ],
   "source": [
    "db_copy"
   ]
  },
  {
   "cell_type": "code",
   "execution_count": 12,
   "metadata": {},
   "outputs": [
    {
     "data": {
      "text/plain": [
       "None                                                                                                                                                      51\n",
       "energy issue                                                                                                                                              46\n",
       "confidential information securities trade                                                                                                                 17\n",
       "enron mention                                                                                                                                             13\n",
       "western wholesale activities power conf call privilege confidential communication attorney client communication attorney work product privilege assert     8\n",
       "                                                                                                                                                          ..\n",
       "lay's meet                                                                                                                                                 1\n",
       "confidential calif peak plant                                                                                                                              1\n",
       "senator dunn hear                                                                                                                                          1\n",
       "video                                                                                                                                                      1\n",
       "market plan meet                                                                                                                                           1\n",
       "Name: Subject, Length: 583, dtype: int64"
      ]
     },
     "execution_count": 12,
     "metadata": {},
     "output_type": "execute_result"
    }
   ],
   "source": [
    "db_copy['Subject'].value_counts()"
   ]
  },
  {
   "cell_type": "markdown",
   "metadata": {},
   "source": [
    "<h3> Preparing training and test set"
   ]
  },
  {
   "cell_type": "code",
   "execution_count": 13,
   "metadata": {},
   "outputs": [],
   "source": [
    "from sklearn.model_selection import train_test_split"
   ]
  },
  {
   "cell_type": "code",
   "execution_count": 14,
   "metadata": {},
   "outputs": [
    {
     "name": "stderr",
     "output_type": "stream",
     "text": [
      "/var/folders/nn/wzvvf1mn3gxbzwjhq00svfrr0000gn/T/ipykernel_5067/4269567516.py:2: FutureWarning: In a future version of pandas all arguments of DataFrame.drop except for the argument 'labels' will be keyword-only.\n",
      "  X = db_copy.drop('Target',1)\n"
     ]
    }
   ],
   "source": [
    "y = db_copy['Target']\n",
    "X = db_copy.drop('Target',1)"
   ]
  },
  {
   "cell_type": "code",
   "execution_count": 15,
   "metadata": {},
   "outputs": [],
   "source": [
    "X_train,X_test,y_train,y_test = train_test_split(X,y,test_size=0.2,random_state=42,stratify=y)"
   ]
  },
  {
   "cell_type": "code",
   "execution_count": 16,
   "metadata": {},
   "outputs": [],
   "source": [
    "X_test.to_csv('X_test')\n",
    "y_test.to_csv('y_test')"
   ]
  },
  {
   "cell_type": "markdown",
   "metadata": {},
   "source": [
    "<h3> Training the model"
   ]
  },
  {
   "cell_type": "code",
   "execution_count": 17,
   "metadata": {},
   "outputs": [],
   "source": [
    "from sklearn.pipeline import Pipeline\n",
    "from sklearn.preprocessing import OneHotEncoder\n",
    "from sklearn.feature_extraction.text import TfidfVectorizer\n",
    "from sklearn.compose import ColumnTransformer\n",
    "from sklearn.linear_model import LogisticRegression\n",
    "from sklearn.ensemble import RandomForestClassifier\n",
    "from sklearn.svm import SVC\n",
    "from sklearn.metrics import f1_score"
   ]
  },
  {
   "cell_type": "code",
   "execution_count": 18,
   "metadata": {},
   "outputs": [],
   "source": [
    "categorical_features = [\n",
    "  'Year',\n",
    "  'Month',\n",
    "  'Day'\n",
    "]\n",
    "\n",
    "categorical_transformer = Pipeline([\n",
    "  ('binarizer',OneHotEncoder(sparse=False))\n",
    "])"
   ]
  },
  {
   "cell_type": "code",
   "execution_count": 19,
   "metadata": {},
   "outputs": [],
   "source": [
    "core_text_features = [\n",
    "  'Subject',\n",
    "  'Body',\n",
    "]\n",
    "\n",
    "core_text_transformer = Pipeline([\n",
    "  ('vectorizer',TfidfVectorizer())\n",
    "])"
   ]
  },
  {
   "cell_type": "code",
   "execution_count": 20,
   "metadata": {},
   "outputs": [],
   "source": [
    "transformers = [\n",
    "    ('categorical',categorical_transformer,categorical_features),\n",
    "    ('subject_vect',core_text_transformer,core_text_features[0]),\n",
    "    ('body_vect',core_text_transformer,core_text_features[1]),\n",
    "]\n",
    "\n",
    "preprocessing_pipe = ColumnTransformer(\n",
    "  transformers=transformers\n",
    ")"
   ]
  },
  {
   "cell_type": "markdown",
   "metadata": {},
   "source": [
    "Now we are going to try two models; Logistic Regression and Random Forest"
   ]
  },
  {
   "cell_type": "code",
   "execution_count": 21,
   "metadata": {},
   "outputs": [],
   "source": [
    "classifier_pipe_rfr = Pipeline(steps=[\n",
    "  ('preprocessing',preprocessing_pipe),\n",
    "  ('classifier_rfr', RandomForestClassifier(\n",
    "    n_estimators=500,\n",
    "    class_weight='balanced',\n",
    "    n_jobs=-1,\n",
    "  ))\n",
    "])\n",
    "\n",
    "classifier_pipe_logit = Pipeline(steps=[\n",
    "  ('preprocessing',preprocessing_pipe),\n",
    "  ('classifier_logit', LogisticRegression(\n",
    "    class_weight='balanced',\n",
    "    n_jobs=-1,\n",
    "    multi_class='ovr',\n",
    "    penalty='l2',\n",
    "    solver='lbfgs'\n",
    "  ))\n",
    "])\n",
    "\n",
    "classifier_pipe_svc = Pipeline(steps=[\n",
    "  ('preprocessing',preprocessing_pipe),\n",
    "  ('classifier_rfr', SVC(\n",
    "    class_weight='balanced',\n",
    "    kernel='rbf'\n",
    "  ))\n",
    "])\n"
   ]
  },
  {
   "cell_type": "code",
   "execution_count": 22,
   "metadata": {},
   "outputs": [],
   "source": [
    "classifier_pipe_rfr.fit(X_train,y_train);\n",
    "classifier_pipe_logit.fit(X_train,y_train);\n",
    "classifier_pipe_svc.fit(X_train,y_train);"
   ]
  },
  {
   "cell_type": "code",
   "execution_count": 23,
   "metadata": {},
   "outputs": [
    {
     "data": {
      "text/plain": [
       "0.359159466624798"
      ]
     },
     "execution_count": 23,
     "metadata": {},
     "output_type": "execute_result"
    }
   ],
   "source": [
    "f1_score(y_test,classifier_pipe_rfr.predict(X_test),average='weighted')"
   ]
  },
  {
   "cell_type": "code",
   "execution_count": 24,
   "metadata": {},
   "outputs": [
    {
     "data": {
      "text/plain": [
       "0.3699898094969736"
      ]
     },
     "execution_count": 24,
     "metadata": {},
     "output_type": "execute_result"
    }
   ],
   "source": [
    "f1_score(y_test,classifier_pipe_logit.predict(X_test),average='weighted')"
   ]
  },
  {
   "cell_type": "code",
   "execution_count": 25,
   "metadata": {},
   "outputs": [
    {
     "data": {
      "text/plain": [
       "0.27545905034204277"
      ]
     },
     "execution_count": 25,
     "metadata": {},
     "output_type": "execute_result"
    }
   ],
   "source": [
    "f1_score(y_test,classifier_pipe_svc.predict(X_test),average='weighted')"
   ]
  },
  {
   "cell_type": "markdown",
   "metadata": {},
   "source": [
    "<h4> Exporting Pipeline"
   ]
  },
  {
   "cell_type": "code",
   "execution_count": 26,
   "metadata": {},
   "outputs": [],
   "source": [
    "import joblib"
   ]
  },
  {
   "cell_type": "code",
   "execution_count": 27,
   "metadata": {},
   "outputs": [
    {
     "data": {
      "text/plain": [
       "['pipeline.joblib']"
      ]
     },
     "execution_count": 27,
     "metadata": {},
     "output_type": "execute_result"
    }
   ],
   "source": [
    "joblib.dump(classifier_pipe_logit,'pipeline.joblib')"
   ]
  }
 ],
 "metadata": {
  "interpreter": {
   "hash": "16ffe8ef227bf54d3d7b6315fb073d28f44160938adeb0900a5ddcb5639043eb"
  },
  "kernelspec": {
   "display_name": "Python 3.8.12 ('giskard')",
   "language": "python",
   "name": "python3"
  },
  "language_info": {
   "codemirror_mode": {
    "name": "ipython",
    "version": 3
   },
   "file_extension": ".py",
   "mimetype": "text/x-python",
   "name": "python",
   "nbconvert_exporter": "python",
   "pygments_lexer": "ipython3",
   "version": "3.8.12"
  },
  "orig_nbformat": 4
 },
 "nbformat": 4,
 "nbformat_minor": 2
}
